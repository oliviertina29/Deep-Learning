{
  "nbformat": 4,
  "nbformat_minor": 0,
  "metadata": {
    "colab": {
      "provenance": []
    },
    "kernelspec": {
      "name": "python3",
      "display_name": "Python 3"
    },
    "language_info": {
      "name": "python"
    }
  },
  "cells": [
    {
      "cell_type": "code",
      "source": [
        "# Importeer les libraies \n",
        "import keras\n",
        "from keras.datasets import cifar10\n",
        "from keras.layers import Conv2D, MaxPooling2D\n",
        "from keras.layers import Dense, Dropout, Activation, Flatten, BatchNormalization\n",
        "from keras.models import Sequential\n",
        "from keras.preprocessing.image import ImageDataGenerator"
      ],
      "metadata": {
        "id": "hlujhkrdcTzk"
      },
      "execution_count": 1,
      "outputs": []
    },
    {
      "cell_type": "code",
      "execution_count": 2,
      "metadata": {
        "colab": {
          "base_uri": "https://localhost:8080/"
        },
        "id": "eUA0m_UxbXG2",
        "outputId": "97db283f-55bf-420e-ec5d-ad1a6753c321"
      },
      "outputs": [
        {
          "output_type": "stream",
          "name": "stdout",
          "text": [
            "Downloading data from https://www.cs.toronto.edu/~kriz/cifar-10-python.tar.gz\n",
            "170498071/170498071 [==============================] - 5s 0us/step\n"
          ]
        },
        {
          "output_type": "stream",
          "name": "stderr",
          "text": [
            "<ipython-input-2-3ad1a166b2eb>:50: UserWarning: `Model.fit_generator` is deprecated and will be removed in a future version. Please use `Model.fit`, which supports generators.\n",
            "  model.fit_generator(\n"
          ]
        },
        {
          "output_type": "stream",
          "name": "stdout",
          "text": [
            "Epoch 1/3\n",
            "1000/1000 [==============================] - 475s 471ms/step - loss: 1.9378 - accuracy: 0.3322 - val_loss: 1.7355 - val_accuracy: 0.4044\n",
            "Epoch 2/3\n",
            "1000/1000 [==============================] - 469s 469ms/step - loss: 1.5542 - accuracy: 0.4412 - val_loss: 1.5283 - val_accuracy: 0.4798\n",
            "Epoch 3/3\n",
            "1000/1000 [==============================] - 477s 477ms/step - loss: 1.3923 - accuracy: 0.5022 - val_loss: 1.5084 - val_accuracy: 0.4805\n"
          ]
        },
        {
          "output_type": "execute_result",
          "data": {
            "text/plain": [
              "<keras.callbacks.History at 0x7fe3f44b9540>"
            ]
          },
          "metadata": {},
          "execution_count": 2
        }
      ],
      "source": [
        "batch_size = 50\n",
        "(X_train, Y_train), (X_test, Y_test) = cifar10.load_data()\n",
        "X_train = X_train.astype('float32')\n",
        "X_test = X_test.astype('float32')\n",
        "X_train /= 255\n",
        "X_test /= 255\n",
        "Y_train = keras.utils.to_categorical(Y_train, 10)\n",
        "Y_test = keras.utils.to_categorical(Y_test, 10)\n",
        "data_generator = ImageDataGenerator(rotation_range=90,\n",
        "  width_shift_range=0.1,\n",
        "  height_shift_range=0.1,\n",
        "  featurewise_center=True,\n",
        "  featurewise_std_normalization=True,\n",
        "  horizontal_flip=True)\n",
        "data_generator.fit(X_train)\n",
        "# standardize the test set\n",
        "for i in range(len(X_test)):\n",
        "    X_test[i] = data_generator.standardize(X_test[i])\n",
        "model = Sequential()\n",
        "model.add(Conv2D(32, (3, 3), padding='same',\n",
        "input_shape=X_train.shape[1:]))\n",
        "model.add(BatchNormalization())\n",
        "model.add(Activation('elu'))\n",
        "model.add(Conv2D(32, (3, 3), padding='same'))\n",
        "model.add(BatchNormalization())\n",
        "model.add(Activation('elu'))\n",
        "model.add(MaxPooling2D(pool_size=(2, 2)))\n",
        "model.add(Dropout(0.2))\n",
        "model.add(Conv2D(64, (3, 3), padding='same'))\n",
        "model.add(BatchNormalization())\n",
        "model.add(Activation('elu'))\n",
        "model.add(Conv2D(64, (3, 3), padding='same'))\n",
        "model.add(BatchNormalization())\n",
        "model.add(Activation('elu'))\n",
        "model.add(MaxPooling2D(pool_size=(2, 2)))\n",
        "model.add(Dropout(0.2))\n",
        "model.add(Conv2D(128, (3, 3)))\n",
        "model.add(BatchNormalization())\n",
        "model.add(Activation('elu'))\n",
        "model.add(Conv2D(128, (3, 3)))\n",
        "model.add(BatchNormalization())\n",
        "model.add(Activation('elu'))\n",
        "model.add(MaxPooling2D(pool_size=(2, 2)))\n",
        "model.add(Dropout(0.5))\n",
        "\n",
        "model.add(Flatten())\n",
        "model.add(Dense(10, activation='softmax'))\n",
        "model.compile(loss='categorical_crossentropy', optimizer='adam',\n",
        "metrics=['accuracy'])\n",
        "model.fit_generator(\n",
        "  generator=data_generator.flow(x=X_train,\n",
        "  y=Y_train,\n",
        "  batch_size=batch_size),\n",
        "  steps_per_epoch=len(X_train) // batch_size,\n",
        "  epochs=3,\n",
        "  validation_data=(X_test, Y_test),\n",
        "  workers=4)    "
      ]
    },
    {
      "cell_type": "code",
      "source": [],
      "metadata": {
        "id": "zJ3ctzSWc1Ox"
      },
      "execution_count": null,
      "outputs": []
    }
  ]
}